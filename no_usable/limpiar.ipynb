{
 "cells": [
  {
   "cell_type": "code",
   "execution_count": 1,
   "id": "110a664a",
   "metadata": {},
   "outputs": [],
   "source": [
    "import pandas as pd\n",
    "import numpy as np\n",
    "import matplotlib.pyplot as plt\n",
    "import scipy.special as special\n",
    "from scipy.optimize import curve_fit\n",
    "import seaborn as sns\n",
    "from sklearn.metrics import r2_score\n",
    "from sklearn.model_selection import train_test_split\n",
    "from sklearn.preprocessing import StandardScaler"
   ]
  },
  {
   "cell_type": "code",
   "execution_count": 2,
   "id": "a5a90075",
   "metadata": {},
   "outputs": [],
   "source": [
    "dfB = pd.read_csv('Bozeman_limpio_final.csv')"
   ]
  },
  {
   "cell_type": "code",
   "execution_count": 3,
   "id": "1c29e35d",
   "metadata": {},
   "outputs": [],
   "source": [
    "dfB.drop(columns=['    last_scraped','Unnamed: 0','Unnamed: 0.1', 'source', 'name', 'host_since', 'host_about', 'host_location', 'description', 'host_name', 'first_review', 'last_review'], inplace=True)\n"
   ]
  },
  {
   "cell_type": "code",
   "execution_count": 4,
   "id": "efed27a0",
   "metadata": {},
   "outputs": [
    {
     "name": "stdout",
     "output_type": "stream",
     "text": [
      "<class 'pandas.core.frame.DataFrame'>\n",
      "RangeIndex: 567 entries, 0 to 566\n",
      "Data columns (total 39 columns):\n",
      " #   Column                          Non-Null Count  Dtype  \n",
      "---  ------                          --------------  -----  \n",
      " 0   host_response_time              567 non-null    object \n",
      " 1   host_response_rate              567 non-null    object \n",
      " 2   host_acceptance_rate            567 non-null    float64\n",
      " 3   host_is_superhost               567 non-null    object \n",
      " 4   host_verifications              567 non-null    object \n",
      " 5   host_has_profile_pic            567 non-null    object \n",
      " 6   host_identity_verified          567 non-null    object \n",
      " 7   neighbourhood_cleansed          567 non-null    object \n",
      " 8   property_type                   567 non-null    object \n",
      " 9   room_type                       567 non-null    object \n",
      " 10  amenities                       567 non-null    object \n",
      " 11  price                           567 non-null    float64\n",
      " 12  has_availability                567 non-null    object \n",
      " 13  instant_bookable                567 non-null    object \n",
      " 14  host_listings_count             567 non-null    float64\n",
      " 15  host_total_listings_count       567 non-null    float64\n",
      " 16  accommodates                    567 non-null    float64\n",
      " 17  bathrooms                       567 non-null    float64\n",
      " 18  bedrooms                        567 non-null    int64  \n",
      " 19  beds                            567 non-null    float64\n",
      " 20  minimum_nights                  567 non-null    float64\n",
      " 21  maximum_nights                  567 non-null    int64  \n",
      " 22  minimum_nights_avg_ntm          567 non-null    float64\n",
      " 23  maximum_nights_avg_ntm          567 non-null    float64\n",
      " 24  availability_30                 567 non-null    int64  \n",
      " 25  availability_60                 567 non-null    int64  \n",
      " 26  availability_90                 567 non-null    int64  \n",
      " 27  availability_365                567 non-null    int64  \n",
      " 28  number_of_reviews_ltm           567 non-null    float64\n",
      " 29  number_of_reviews_l30d          567 non-null    int64  \n",
      " 30  review_scores_rating            567 non-null    float64\n",
      " 31  review_scores_accuracy          567 non-null    float64\n",
      " 32  review_scores_cleanliness       567 non-null    float64\n",
      " 33  review_scores_checkin           567 non-null    float64\n",
      " 34  review_scores_communication     567 non-null    float64\n",
      " 35  review_scores_location          567 non-null    float64\n",
      " 36  review_scores_value             567 non-null    float64\n",
      " 37  calculated_host_listings_count  567 non-null    int64  \n",
      " 38  reviews_per_month               567 non-null    float64\n",
      "dtypes: float64(19), int64(8), object(12)\n",
      "memory usage: 172.9+ KB\n"
     ]
    }
   ],
   "source": [
    "dfB.info()"
   ]
  },
  {
   "cell_type": "code",
   "execution_count": 5,
   "id": "2b632c2f",
   "metadata": {},
   "outputs": [],
   "source": [
    "dfB.drop(columns=['neighbourhood_cleansed'], inplace=True)"
   ]
  },
  {
   "cell_type": "code",
   "execution_count": 6,
   "id": "3cffdc61",
   "metadata": {},
   "outputs": [],
   "source": [
    "dfB['host_response_rate'] = dfB['host_response_rate'].str.replace('%', '').astype(float)\n"
   ]
  },
  {
   "cell_type": "code",
   "execution_count": 7,
   "id": "f3d828b0",
   "metadata": {},
   "outputs": [],
   "source": [
    "dfB.to_csv('Bozeman_V1.csv', index=False)"
   ]
  }
 ],
 "metadata": {
  "kernelspec": {
   "display_name": "Python 3",
   "language": "python",
   "name": "python3"
  },
  "language_info": {
   "codemirror_mode": {
    "name": "ipython",
    "version": 3
   },
   "file_extension": ".py",
   "mimetype": "text/x-python",
   "name": "python",
   "nbconvert_exporter": "python",
   "pygments_lexer": "ipython3",
   "version": "3.13.1"
  }
 },
 "nbformat": 4,
 "nbformat_minor": 5
}
