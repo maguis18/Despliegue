{
 "cells": [
  {
   "cell_type": "code",
   "execution_count": 3,
   "metadata": {},
   "outputs": [],
   "source": [
    "import pandas as pd\n",
    "import numpy as np\n",
    "import matplotlib.pyplot as plt\n",
    "import seaborn as sns\n",
    "#import statsmodels.api as smi\n",
    "import scipy.special as special\n",
    "from scipy.optimize import curve_fit\n",
    "from sklearn.metrics import r2_score\n",
    "from sklearn.model_selection import train_test_split\n",
    "from sklearn.preprocessing import StandardScaler"
   ]
  },
  {
   "cell_type": "code",
   "execution_count": 5,
   "metadata": {},
   "outputs": [
    {
     "name": "stdout",
     "output_type": "stream",
     "text": [
      "Requirement already satisfied: plotly in c:\\users\\jesus\\appdata\\local\\programs\\python\\python313\\lib\\site-packages (6.0.1)\n",
      "Requirement already satisfied: narwhals>=1.15.1 in c:\\users\\jesus\\appdata\\local\\programs\\python\\python313\\lib\\site-packages (from plotly) (1.33.0)\n",
      "Requirement already satisfied: packaging in c:\\users\\jesus\\appdata\\roaming\\python\\python313\\site-packages (from plotly) (24.2)\n",
      "Note: you may need to restart the kernel to use updated packages.\n"
     ]
    },
    {
     "name": "stderr",
     "output_type": "stream",
     "text": [
      "\n",
      "[notice] A new release of pip is available: 25.0 -> 25.0.1\n",
      "[notice] To update, run: python.exe -m pip install --upgrade pip\n"
     ]
    }
   ],
   "source": [
    "%pip install plotly"
   ]
  },
  {
   "cell_type": "code",
   "execution_count": 6,
   "metadata": {},
   "outputs": [
    {
     "name": "stdout",
     "output_type": "stream",
     "text": [
      "\n",
      "added 22 packages in 9s\n",
      "\n",
      "3 packages are looking for funding\n",
      "  run `npm fund` for details\n"
     ]
    }
   ],
   "source": [
    "! npm install -g localtunnel"
   ]
  },
  {
   "cell_type": "code",
   "execution_count": 1,
   "metadata": {},
   "outputs": [
    {
     "name": "stdout",
     "output_type": "stream",
     "text": [
      "Overwriting app.py\n"
     ]
    }
   ],
   "source": [
    "%%writefile app.py\n",
    "import streamlit as st\n",
    "import pandas as pd\n",
    "import plotly.express as px\n",
    "\n",
    "@st.cache_resource\n",
    "\n",
    "def load_data():\n",
    "    df = pd.read_csv('titanic.csv',index_col='Name')\n",
    "    numeric_df=df.select_dtypes(['float','int'])\n",
    "    numeric_cols=numeric_df.columns\n",
    "\n",
    "    text_df=df.select_dtypes(['object'])\n",
    "    text_cols=text_df.columns\n",
    "\n",
    "    categorical_column_sex=df['Sex']\n",
    "    unique_categories_sex=categorical_column_sex.unique()\n",
    "    return df,numeric_cols,text_cols,unique_categories_sex,numeric_df\n",
    "\n",
    "df,numeric_cols,text_cols,unique_categories_sex,numeric_df=load_data()\n",
    "\n",
    "\n",
    "#primer widget\n",
    "view=st.selectbox(label='view',options=['view 1','view 2','view 3','view 4'])\n",
    "\n",
    "if view=='view 1':\n",
    "    st.title('Titanic')\n",
    "    st.header('Panel principal')\n",
    "    st.subheader('Line plot')\n",
    "\n",
    "#\n",
    "    st.sidebar.title(\"DASHBOARD\")\n",
    "    st.sidebar.header(\"sidebar\")\n",
    "    st.sidebar.subheader(\"Panel de selección\")\n",
    "\n",
    "    #widget 2:Checkbox\n",
    "    check_box=st.sidebar.checkbox(label=\"mostrar dataset\")\n",
    "\n",
    "    if check_box:\n",
    "        #mostramos el dataset\n",
    "        st.write(df)\n",
    "        st.write(df.columns)\n",
    "        st.write(df.describe())\n",
    "\n",
    "    numerics_vars_selected=st.sidebar.multiselect(label=\"variables graficadas\",options=numeric_cols)\n",
    "    category_selected=st.sidebar.selectbox(label=\"categoría\",options=unique_categories_sex)\n",
    "    Button=st.sidebar.button(label=\"Mostrar variables string\")\n",
    "\n",
    "    if Button:\n",
    "        #mostramos el dataset\n",
    "        st.write(text_cols)\n",
    "    \n",
    "    #grafica 1\n",
    "    data=df[df['Sex']==category_selected]\n",
    "    data_features=data[numerics_vars_selected]\n",
    "    figure1=px.line(data_frame=data_features,x=data_features.index,\n",
    "                    y=numerics_vars_selected,title=str('Features of Passengers'),\n",
    "                    width=1600,height=600)\n",
    "    Button2=st.sidebar.button(label=\"Mostrar gráfica tipo lineplot\")\n",
    "    if Button2:#intentar sacar el ploty del if para que sea dinamico \n",
    "        #mostramos el dataset\n",
    "        st.plotly_chart(figure1)\n",
    "elif view==\"view 2\":\n",
    "    st.title('Titanic')\n",
    "    st.header('Panel principal')\n",
    "    st.subheader('Scatter plot')\n",
    "\n",
    "    #scatterplor\n",
    "    x_selected=st.sidebar.selectbox(label=\"x\",options=numeric_cols)\n",
    "    y_selected=st.sidebar.selectbox(label=\"y\",options=numeric_cols)\n",
    "    figure2=px.scatter(data_frame=numeric_df,x=x_selected,y=y_selected,\n",
    "                        title='Dispersiones')\n",
    "    st.plotly_chart(figure2)\n",
    "elif view==\"view 3\":\n",
    "    st.title('Titanic')\n",
    "    st.header('Panel principal')\n",
    "    st.subheader('Pie Plot')\n",
    "\n",
    "    Variable_cat=st.sidebar.selectbox(label=\"Variable categórica\",options=text_cols)\n",
    "    Variable_num=st.sidebar.selectbox(label=\"Variable numérica\",options=numeric_cols)\n",
    "    #pieplot\n",
    "    figure3=px.pie(data_frame=df,names=df[Variable_cat],values=df[Variable_num],title=str('Features of')+' ' + 'Passengers',width=1600,height=600)\n",
    "    st.plotly_chart(figure3)\n",
    "\n",
    "elif view==\"view 4\":\n",
    "    st.title('Titanic')\n",
    "    st.header('Panel principal')\n",
    "    st.subheader('Bar Plot')\n",
    "\n",
    "    #barplot\n",
    "    Variable_cat=st.sidebar.selectbox(label=\"Variable categórica\",options=text_cols)\n",
    "    Variable_num=st.sidebar.selectbox(label=\"Variable numérica\",options=numeric_cols)\n",
    "    figure4=px.bar(data_frame=df,x=df[Variable_cat],y=df[Variable_num],title=str('Features of')+' ' + 'Passengers')\n",
    "    figure4.update_xaxes(automargin=True)\n",
    "    figure4.update_yaxes(automargin=True)\n",
    "    st.plotly_chart(figure4)"
   ]
  },
  {
   "cell_type": "code",
   "execution_count": null,
   "metadata": {},
   "outputs": [],
   "source": []
  }
 ],
 "metadata": {
  "kernelspec": {
   "display_name": "Python 3",
   "language": "python",
   "name": "python3"
  },
  "language_info": {
   "codemirror_mode": {
    "name": "ipython",
    "version": 3
   },
   "file_extension": ".py",
   "mimetype": "text/x-python",
   "name": "python",
   "nbconvert_exporter": "python",
   "pygments_lexer": "ipython3",
   "version": "3.13.1"
  }
 },
 "nbformat": 4,
 "nbformat_minor": 2
}
